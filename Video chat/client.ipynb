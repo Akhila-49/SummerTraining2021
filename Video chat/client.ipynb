{
 "cells": [
  {
   "cell_type": "code",
   "execution_count": 1,
   "id": "1814673a",
   "metadata": {},
   "outputs": [],
   "source": [
    "import cv2,socket,pickle,struct"
   ]
  },
  {
   "cell_type": "code",
   "execution_count": 2,
   "id": "fe409d80",
   "metadata": {},
   "outputs": [],
   "source": [
    "# create client socket\n",
    "client = socket.socket()\n",
    "#connect to host ip and port\n",
    "client.connect((\"192.168.1.6\",9999))\n"
   ]
  },
  {
   "cell_type": "code",
   "execution_count": 3,
   "id": "b4d56472",
   "metadata": {},
   "outputs": [],
   "source": [
    "data = b\"\"\n",
    "payload_size = struct.calcsize(\"Q\")"
   ]
  },
  {
   "cell_type": "code",
   "execution_count": 4,
   "id": "25ded798",
   "metadata": {},
   "outputs": [],
   "source": [
    "while True:\n",
    "    while len(data) < payload_size:\n",
    "        packet = client.recv(4*1024)\n",
    "        if not packet : break\n",
    "        data+= packet\n",
    "    packed_msg_size = data[:payload_size]\n",
    "    data = data[payload_size:]\n",
    "    msg_size = struct.unpack(\"Q\",packed_msg_size)[0]\n",
    "    try:\n",
    "        while len(data)<msg_size:\n",
    "            data+=client.recv(4*1024)\n",
    "        frame_data = data[:msg_size]\n",
    "        data = data[msg_size:]\n",
    "        frame = pickle.loads(frame_data)\n",
    "        cv2.imshow(\"receiving\",frame)\n",
    "        if cv2.waitKey(10)==13:\n",
    "            break\n",
    "    except:\n",
    "        print(\"connection interrupted\")\n",
    "        break\n",
    "cv2.destroyAllWindows()\n",
    "#close \n",
    "client.close()"
   ]
  }
 ],
 "metadata": {
  "kernelspec": {
   "display_name": "Python 3",
   "language": "python",
   "name": "python3"
  },
  "language_info": {
   "codemirror_mode": {
    "name": "ipython",
    "version": 3
   },
   "file_extension": ".py",
   "mimetype": "text/x-python",
   "name": "python",
   "nbconvert_exporter": "python",
   "pygments_lexer": "ipython3",
   "version": "3.8.8"
  }
 },
 "nbformat": 4,
 "nbformat_minor": 5
}
