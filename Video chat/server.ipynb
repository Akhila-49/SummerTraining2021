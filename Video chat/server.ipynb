{
 "cells": [
  {
   "cell_type": "code",
   "execution_count": 1,
   "id": "7d1686a2",
   "metadata": {},
   "outputs": [],
   "source": [
    "import cv2,socket,pickle,struct"
   ]
  },
  {
   "cell_type": "code",
   "execution_count": 2,
   "id": "c57db314",
   "metadata": {},
   "outputs": [
    {
     "name": "stdout",
     "output_type": "stream",
     "text": [
      "connection interrupted\n"
     ]
    }
   ],
   "source": [
    "# create server socket\n",
    "s = socket.socket()\n",
    "#get your ip using ipconfig\n",
    "host_ip = \"192.168.1.6\"\n",
    "port = 9999\n",
    "socket_addr = (host_ip,port)\n",
    "# bind the socket\n",
    "s.bind(socket_addr)\n",
    "# socket listen with backlog - 5\n",
    "s.listen(5)\n",
    "# accept socket\n",
    "while True:\n",
    "    client,addr = s.accept()\n",
    "    if client:\n",
    "        video = cv2.VideoCapture(0)\n",
    "        try:\n",
    "            while(video.isOpened()):\n",
    "                image , frame = video.read()\n",
    "                a = pickle.dumps(frame)\n",
    "                msg = struct.pack(\"Q\",len(a))+a\n",
    "                client.sendall(msg)\n",
    "                cv2.imshow(\"transmitting\",frame)\n",
    "                if cv2.waitKey(10)==13:\n",
    "                    break\n",
    "        except:\n",
    "            print('connection interrupted')\n",
    "            break\n",
    "    break\n",
    "cv2.destroyAllWindows()\n",
    "#close client\n",
    "client.close()\n",
    "#release webcam\n",
    "video.release()\n",
    "                \n",
    "                \n",
    "           \n",
    "            \n",
    "            \n",
    "                "
   ]
  },
  {
   "cell_type": "code",
   "execution_count": null,
   "id": "e0913e88",
   "metadata": {},
   "outputs": [],
   "source": []
  },
  {
   "cell_type": "code",
   "execution_count": null,
   "id": "011a4afb",
   "metadata": {},
   "outputs": [],
   "source": []
  }
 ],
 "metadata": {
  "kernelspec": {
   "display_name": "Python 3",
   "language": "python",
   "name": "python3"
  },
  "language_info": {
   "codemirror_mode": {
    "name": "ipython",
    "version": 3
   },
   "file_extension": ".py",
   "mimetype": "text/x-python",
   "name": "python",
   "nbconvert_exporter": "python",
   "pygments_lexer": "ipython3",
   "version": "3.8.8"
  }
 },
 "nbformat": 4,
 "nbformat_minor": 5
}
