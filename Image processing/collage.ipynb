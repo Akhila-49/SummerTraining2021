{
 "cells": [
  {
   "cell_type": "code",
   "execution_count": 1,
   "id": "21600cec",
   "metadata": {},
   "outputs": [],
   "source": [
    "import cv2"
   ]
  },
  {
   "cell_type": "code",
   "execution_count": 2,
   "id": "74473f25",
   "metadata": {},
   "outputs": [],
   "source": [
    "import numpy"
   ]
  },
  {
   "cell_type": "code",
   "execution_count": 3,
   "id": "9cc5a370",
   "metadata": {},
   "outputs": [],
   "source": [
    "tom = cv2.imread(\"tom.png\")"
   ]
  },
  {
   "cell_type": "code",
   "execution_count": 4,
   "id": "b32ab194",
   "metadata": {},
   "outputs": [],
   "source": [
    "jerry = cv2.imread(\"jerry.jpg\")"
   ]
  },
  {
   "cell_type": "code",
   "execution_count": null,
   "id": "4012310b",
   "metadata": {},
   "outputs": [],
   "source": [
    "tom.shape"
   ]
  },
  {
   "cell_type": "code",
   "execution_count": null,
   "id": "0ac06cfb",
   "metadata": {},
   "outputs": [],
   "source": [
    "jerry.shape"
   ]
  },
  {
   "cell_type": "code",
   "execution_count": 5,
   "id": "a7a6c0f4",
   "metadata": {},
   "outputs": [],
   "source": [
    "cv2.imshow('tom',tom)\n",
    "cv2.waitKey()\n",
    "cv2.destroyAllWindows()"
   ]
  },
  {
   "cell_type": "code",
   "execution_count": 6,
   "id": "fd5c626b",
   "metadata": {},
   "outputs": [],
   "source": [
    "cv2.imshow('jerry',jerry)\n",
    "cv2.waitKey()\n",
    "cv2.destroyAllWindows()"
   ]
  },
  {
   "cell_type": "code",
   "execution_count": 7,
   "id": "fc723964",
   "metadata": {},
   "outputs": [],
   "source": [
    "friends = numpy.hstack([tom,jerry])"
   ]
  },
  {
   "cell_type": "code",
   "execution_count": 8,
   "id": "9578d782",
   "metadata": {},
   "outputs": [],
   "source": [
    "cv2.imshow('friends',friends)\n",
    "cv2.waitKey()\n",
    "cv2.destroyAllWindows()"
   ]
  }
 ],
 "metadata": {
  "kernelspec": {
   "display_name": "Python 3",
   "language": "python",
   "name": "python3"
  },
  "language_info": {
   "codemirror_mode": {
    "name": "ipython",
    "version": 3
   },
   "file_extension": ".py",
   "mimetype": "text/x-python",
   "name": "python",
   "nbconvert_exporter": "python",
   "pygments_lexer": "ipython3",
   "version": "3.8.8"
  }
 },
 "nbformat": 4,
 "nbformat_minor": 5
}
