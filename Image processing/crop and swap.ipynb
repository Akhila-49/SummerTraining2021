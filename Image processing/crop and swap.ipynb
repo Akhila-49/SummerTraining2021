{
 "cells": [
  {
   "cell_type": "code",
   "execution_count": 1,
   "id": "abe0134f",
   "metadata": {},
   "outputs": [],
   "source": [
    "import cv2"
   ]
  },
  {
   "cell_type": "code",
   "execution_count": 2,
   "id": "f3e5408c",
   "metadata": {},
   "outputs": [],
   "source": [
    "import numpy"
   ]
  },
  {
   "cell_type": "code",
   "execution_count": 3,
   "id": "bb28f106",
   "metadata": {},
   "outputs": [],
   "source": [
    "sun = cv2.imread('sun.jpg')"
   ]
  },
  {
   "cell_type": "code",
   "execution_count": 4,
   "id": "948f2899",
   "metadata": {},
   "outputs": [],
   "source": [
    "moon = cv2.imread('moon.png')"
   ]
  },
  {
   "cell_type": "code",
   "execution_count": 5,
   "id": "5092f88e",
   "metadata": {},
   "outputs": [],
   "source": [
    "sun = cv2.resize(sun,(400,400))"
   ]
  },
  {
   "cell_type": "code",
   "execution_count": 6,
   "id": "0a8ad54c",
   "metadata": {},
   "outputs": [],
   "source": [
    "moon = cv2.resize(moon,(400,400))"
   ]
  },
  {
   "cell_type": "code",
   "execution_count": 7,
   "id": "154b4177",
   "metadata": {},
   "outputs": [],
   "source": [
    "cv2.imshow('sun',sun)\n",
    "cv2.imshow('moon',moon)\n",
    "cv2.waitKey()\n",
    "cv2.destroyAllWindows()"
   ]
  },
  {
   "cell_type": "code",
   "execution_count": 8,
   "id": "d378f04c",
   "metadata": {},
   "outputs": [],
   "source": [
    "c1 = sun[0:400,200:400]"
   ]
  },
  {
   "cell_type": "code",
   "execution_count": 9,
   "id": "ece96914",
   "metadata": {},
   "outputs": [],
   "source": [
    "c2 = moon[0:400,200:400]"
   ]
  },
  {
   "cell_type": "code",
   "execution_count": 10,
   "id": "fce237c3",
   "metadata": {},
   "outputs": [],
   "source": [
    "cv2.imshow('sun_crop',c1)\n",
    "cv2.imshow('moon_crop',c2)\n",
    "cv2.waitKey()\n",
    "cv2.destroyAllWindows()"
   ]
  },
  {
   "cell_type": "code",
   "execution_count": 11,
   "id": "2523120f",
   "metadata": {},
   "outputs": [],
   "source": [
    "temp = numpy.zeros([400,400,3])"
   ]
  },
  {
   "cell_type": "code",
   "execution_count": null,
   "id": "131d0cde",
   "metadata": {},
   "outputs": [],
   "source": [
    "temp.shape"
   ]
  },
  {
   "cell_type": "code",
   "execution_count": 12,
   "id": "c6332d6c",
   "metadata": {},
   "outputs": [],
   "source": [
    "temp[0:400,200:400]=sun[0:400,200:400]\n",
    "sun[0:400,200:400]=moon[0:400,200:400]\n",
    "moon[0:400,200:400]=temp[0:400,200:400]"
   ]
  },
  {
   "cell_type": "code",
   "execution_count": 13,
   "id": "0e6e9210",
   "metadata": {},
   "outputs": [],
   "source": [
    "cv2.imshow('sun',sun)\n",
    "cv2.imshow('moon',moon)\n",
    "cv2.waitKey()\n",
    "cv2.destroyAllWindows()"
   ]
  },
  {
   "cell_type": "code",
   "execution_count": null,
   "id": "e5ea8138",
   "metadata": {},
   "outputs": [],
   "source": []
  }
 ],
 "metadata": {
  "kernelspec": {
   "display_name": "Python 3",
   "language": "python",
   "name": "python3"
  },
  "language_info": {
   "codemirror_mode": {
    "name": "ipython",
    "version": 3
   },
   "file_extension": ".py",
   "mimetype": "text/x-python",
   "name": "python",
   "nbconvert_exporter": "python",
   "pygments_lexer": "ipython3",
   "version": "3.8.8"
  }
 },
 "nbformat": 4,
 "nbformat_minor": 5
}
