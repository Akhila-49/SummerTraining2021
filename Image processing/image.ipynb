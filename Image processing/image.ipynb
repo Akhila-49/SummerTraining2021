{
 "cells": [
  {
   "cell_type": "code",
   "execution_count": 1,
   "id": "a2f8870d",
   "metadata": {},
   "outputs": [],
   "source": [
    "import cv2"
   ]
  },
  {
   "cell_type": "code",
   "execution_count": 2,
   "id": "6ba3d37b",
   "metadata": {},
   "outputs": [],
   "source": [
    "import numpy as np"
   ]
  },
  {
   "cell_type": "code",
   "execution_count": 3,
   "id": "5389bb16",
   "metadata": {},
   "outputs": [],
   "source": [
    "i = np.ones([500,500,3])"
   ]
  },
  {
   "cell_type": "code",
   "execution_count": 4,
   "id": "ec7579f7",
   "metadata": {},
   "outputs": [],
   "source": [
    "contours = np.array( [ [100,100], [170,350], [200, 275], [150,100] ] )\n",
    "contours2 = np.array( [ [175,100], [240,350], [275, 275], [225,100] ] )\n",
    "contours3 = np.array( [ [250,100], [320,350], [385, 100], [330,100],[317,150],[300,100] ] )\n",
    "color = (0,0,255)\n",
    "image =cv2.fillPoly(i, pts =[contours], color = color)\n",
    "image =cv2.fillPoly(i, pts =[contours2], color=(0,0,0))\n",
    "image =cv2.fillPoly(i, pts =[contours3], color\n",
    "                    =(0,0,0))"
   ]
  },
  {
   "cell_type": "code",
   "execution_count": 5,
   "id": "74631bb4",
   "metadata": {},
   "outputs": [],
   "source": [
    "image = cv2.putText(i, 'L',(100,400), cv2.FONT_HERSHEY_DUPLEX,1.5,(0,0,255),2, cv2.LINE_AA)\n",
    "image = cv2.putText(i, 'INUX',(125,400), cv2.FONT_HERSHEY_DUPLEX,1.5,(0,0,0),2, cv2.LINE_AA)\n",
    "image = cv2.putText(i, 'W',(240,400), cv2.FONT_HERSHEY_SIMPLEX,1.5,(0,0,255),2, cv2.LINE_AA)\n",
    "image = cv2.putText(i, 'ORLD',(275,400), cv2.FONT_HERSHEY_SIMPLEX,1.5,(0,0,0),2, cv2.LINE_AA)\n",
    "image = cv2.putText(i, 'L',(140,475), cv2.FONT_HERSHEY_DUPLEX,1.5,(0,0,255),2, cv2.LINE_AA)\n",
    "image = cv2.putText(i, 'earn',(165,475), cv2.FONT_HERSHEY_DUPLEX,1,(0,0,255),2, cv2.LINE_AA)\n",
    "image = cv2.putText(i, '2',(250,475), cv2.FONT_HERSHEY_COMPLEX,1,(0,0,0),2, cv2.LINE_AA)\n",
    "image = cv2.putText(i, 'W',(280,475), cv2.FONT_HERSHEY_SIMPLEX,1.5,(0,0,255),2, cv2.LINE_AA)\n",
    "image = cv2.putText(i, 'in',(315,475), cv2.FONT_HERSHEY_SIMPLEX,1,(0,0,255),2, cv2.LINE_AA)"
   ]
  },
  {
   "cell_type": "code",
   "execution_count": 6,
   "id": "03be06b3",
   "metadata": {},
   "outputs": [],
   "source": [
    "cv2.imshow('mine',image)\n",
    "cv2.waitKey()\n",
    "cv2.destroyAllWindows()"
   ]
  },
  {
   "cell_type": "code",
   "execution_count": null,
   "id": "8b646ccc",
   "metadata": {},
   "outputs": [],
   "source": []
  },
  {
   "cell_type": "code",
   "execution_count": null,
   "id": "a76f15fc",
   "metadata": {},
   "outputs": [],
   "source": []
  }
 ],
 "metadata": {
  "kernelspec": {
   "display_name": "Python 3",
   "language": "python",
   "name": "python3"
  },
  "language_info": {
   "codemirror_mode": {
    "name": "ipython",
    "version": 3
   },
   "file_extension": ".py",
   "mimetype": "text/x-python",
   "name": "python",
   "nbconvert_exporter": "python",
   "pygments_lexer": "ipython3",
   "version": "3.8.8"
  }
 },
 "nbformat": 4,
 "nbformat_minor": 5
}
